{
 "cells": [
  {
   "cell_type": "code",
   "execution_count": 1,
   "metadata": {
    "collapsed": false
   },
   "outputs": [
    {
     "name": "stdout",
     "output_type": "stream",
     "text": [
      "blas_opt_info:\n",
      "    libraries = ['openblas']\n",
      "    library_dirs = ['/usr/lib64']\n",
      "    language = f77\n",
      "blas_mkl_info:\n",
      "  NOT AVAILABLE\n",
      "openblas_lapack_info:\n",
      "    libraries = ['openblas']\n",
      "    library_dirs = ['/usr/lib64']\n",
      "    language = f77\n",
      "lapack_opt_info:\n",
      "    libraries = ['openblas']\n",
      "    library_dirs = ['/usr/lib64']\n",
      "    language = f77\n",
      "openblas_info:\n",
      "    libraries = ['openblas']\n",
      "    library_dirs = ['/usr/lib64']\n",
      "    language = f77\n"
     ]
    }
   ],
   "source": [
    "%%bash\n",
    "/home/gil/anaconda/envs/numpyopenblas/bin/python printinfo.py"
   ]
  },
  {
   "cell_type": "code",
   "execution_count": 2,
   "metadata": {
    "collapsed": true
   },
   "outputs": [],
   "source": [
    "tests = []"
   ]
  },
  {
   "cell_type": "code",
   "execution_count": 10,
   "metadata": {
    "collapsed": false
   },
   "outputs": [
    {
     "name": "stdout",
     "output_type": "stream",
     "text": [
      "1\n",
      "Running version openblas1thread\n",
      "Running matmatmult for 500x500\n",
      "100 loops, best of 3: 2.37 msec per loop\n",
      "Running matmatmult for 1000x1000\n",
      "100 loops, best of 3: 10 msec per loop\n",
      "Running matmatmult for 5000x5000\n",
      "10 loops, best of 3: 1.09 sec per loop\n"
     ]
    }
   ],
   "source": [
    "!(/home/gil/anaconda/envs/numpyopenblas/bin/python mattest.py \"openblas1thread\" 1)"
   ]
  },
  {
   "cell_type": "code",
   "execution_count": 4,
   "metadata": {
    "collapsed": false
   },
   "outputs": [],
   "source": [
    "x = !/home/gil/anaconda/envs/numpyopenblas/bin/python mattest.py \"openblas2thread\" 2\n",
    "tests.append(x)"
   ]
  },
  {
   "cell_type": "code",
   "execution_count": 5,
   "metadata": {
    "collapsed": false
   },
   "outputs": [
    {
     "name": "stdout",
     "output_type": "stream",
     "text": [
      "^C\n"
     ]
    }
   ],
   "source": [
    "x = !/home/gil/anaconda/envs/numpyopenblas/bin/python mattest.py \"openblas3thread\" 3\n",
    "tests.append(x)"
   ]
  },
  {
   "cell_type": "code",
   "execution_count": 6,
   "metadata": {
    "collapsed": false
   },
   "outputs": [
    {
     "ename": "SyntaxError",
     "evalue": "invalid syntax (<ipython-input-6-66217261442d>, line 1)",
     "output_type": "error",
     "traceback": [
      "\u001b[1;36m  File \u001b[1;32m\"<ipython-input-6-66217261442d>\"\u001b[1;36m, line \u001b[1;32m1\u001b[0m\n\u001b[1;33m    x = /home/gil/anaconda/envs/numpyopenblas/bin/python mattest.py \"openblas4thread\" 4\u001b[0m\n\u001b[1;37m        ^\u001b[0m\n\u001b[1;31mSyntaxError\u001b[0m\u001b[1;31m:\u001b[0m invalid syntax\n"
     ]
    }
   ],
   "source": [
    "x = /home/gil/anaconda/envs/numpyopenblas/bin/python mattest.py \"openblas4thread\" 4\n",
    "tests.append(x)"
   ]
  },
  {
   "cell_type": "code",
   "execution_count": 7,
   "metadata": {
    "collapsed": false
   },
   "outputs": [
    {
     "data": {
      "text/plain": [
       "[['Running version openblas1thread',\n",
       "  'Running matmatmult for 500x500',\n",
       "  '100 loops, best of 3: 2.41 msec per loop',\n",
       "  'Running matmatmult for 1000x1000',\n",
       "  '100 loops, best of 3: 9.86 msec per loop',\n",
       "  'Running matmatmult for 5000x5000',\n",
       "  '10 loops, best of 3: 993 msec per loop'],\n",
       " ['Running version openblas2thread',\n",
       "  'Running matmatmult for 500x500',\n",
       "  '100 loops, best of 3: 1.41 msec per loop',\n",
       "  'Running matmatmult for 1000x1000',\n",
       "  '100 loops, best of 3: 10.2 msec per loop',\n",
       "  'Running matmatmult for 5000x5000',\n",
       "  '10 loops, best of 3: 1.01 sec per loop'],\n",
       " []]"
      ]
     },
     "execution_count": 7,
     "metadata": {},
     "output_type": "execute_result"
    }
   ],
   "source": [
    "tests"
   ]
  },
  {
   "cell_type": "code",
   "execution_count": null,
   "metadata": {
    "collapsed": true
   },
   "outputs": [],
   "source": []
  }
 ],
 "metadata": {
  "kernelspec": {
   "display_name": "Python 3",
   "language": "python",
   "name": "python3"
  },
  "language_info": {
   "codemirror_mode": {
    "name": "ipython",
    "version": 3
   },
   "file_extension": ".py",
   "mimetype": "text/x-python",
   "name": "python",
   "nbconvert_exporter": "python",
   "pygments_lexer": "ipython3",
   "version": "3.4.3"
  }
 },
 "nbformat": 4,
 "nbformat_minor": 0
}
